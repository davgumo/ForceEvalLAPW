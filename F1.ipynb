The total energy consists of the functionals of the non-interacting many electron **kinetic $T[\eta]$**, **electrostatic $U[\eta]$**, and **exchance-correlation $E^{XC}[\eta]$** energies

$$E^{tot}[\eta]=T[\eta]+U[\eta]+E^{XC}[\eta].$$

The electron density that minimizes, $\eta^{sc}(\mathbf{r}$), the total energy $E^{tot}[\eta]$ is found by solving self-consistently the KS equations.

$$H\psi_i(\vec{r})=[\hat{T}+V^{eff}(\vec{r})]\psi_i(\vec{r})=\epsilon_i\psi_i(\vec{r})$$

where the effective potential $V^{eff}(\vec{r})$ is

$$V^{eff}(\vec{r})=V^{es}(\vec{r})+V^{XC}(\vec{r})$$

with the electrostatic potential $V^{es}(\vec{r})$ created by the electron density $\eta(\vec{r})$ and nuclear charge $Z_I$, as shown bellow

$$V^{es}(\vec{r})=\int d^3\vec{r}'\frac{\eta(\vec{r}')}{|\vec{r}-\vec{r}'|}-\sum_I\frac{Z_I}{|\vec{r}-\vec{R}_I|}.$$

The electron denisty if given by 
$$\eta(\vec{r})=\sum_{i=1}^{\infty}f_i\psi_i^*(\vec{r})\psi_i(\vec{r})$$

where $f_i$ are the occupation numbers of the eigenstates $\psi_i(\vec{r})$. The XC potential $V^{XC}(\vec{r})$ is computed as

$$V^{XC}(\vec{r})=\frac{\partial E^{XC}[\eta]}{\partial \eta}$$

The Kohn-Sham total energy $E^{tot}[\eta]$ is calculated using the expressions:

$$T[\eta]=\sum_{i=1}^\infty f_i\epsilon_i - \int d^3\vec{r}\eta(\vec{r})V^{eff}(\vec{r})$$

$$U[\eta]=\frac{1}{2}\int d^3\vec{r}d^3\vec{r}'\frac{\eta(\vec{r})\eta(\vec{r}')}{|\vec{r}-\vec{r}'|} - \int d^3\vec{r}\eta(\vec{r})\sum_I\frac{Z_I}{|\vec{r}-\vec{R}_I|} + \frac{1}{2}\sum_{I\neq J}\frac{Z_IZ_J}{|\vec{R}_I-\vec{R}_J|}$$

$$E^{XC}[\eta]=\int d^3\vec{r}\eta(\vec{r})\epsilon^{XC}[\eta](\vec{r})$$

where $\epsilon^{EX}[\eta]$ is the XC energy per particle.

For finite temperature and/or to stabilize the convergence of the sefl-consistent field (SCF) calculation the electronic states can be occupied following the Fermi distribution at a finite electronic temperature $T^{el}$

$$f_i=\left[1+exp\left(\frac{\epsilon_i-\epsilon_F}{k_B T^{el}}\right)\right]^{-1}$$

where $\epsilon_F$ is the Fermi energy and $k_B$ is the the Boltzmann constant.

In such case the **free energy** would need to be minimize.

$$\mathcal{F}[\eta]=E^{tot}[\eta]-T^{el}S^{el}$$

with the electronic entropy $S^{el}$ given by

$$S^{el}=-2k_B\sum_i\left[f_i\ log\ f_i + (1-f_i)\log\ (1-f_i)\right]-S_0$$

$S_0$ is chosen such that the entropy $S^{el}$ vanishes at $T^{el}=0$ K.
